{
 "cells": [
  {
   "cell_type": "code",
   "execution_count": 1,
   "metadata": {},
   "outputs": [],
   "source": [
    "from random import shuffle \n",
    "import cv2\n",
    "import uuid\n",
    "from tqdm import tqdm\n",
    "\n",
    "import os\n",
    "import pydicom\n",
    "import numpy as np"
   ]
  },
  {
   "cell_type": "code",
   "execution_count": null,
   "metadata": {},
   "outputs": [],
   "source": []
  },
  {
   "cell_type": "code",
   "execution_count": 2,
   "metadata": {},
   "outputs": [],
   "source": [
    "# dir Setup\n",
    "\n",
    "data_dir = \"/media/mic/ML/Training_Data/DEC-17-17/train/GRADE_4/\"\n",
    "output_dir = \"/media/mic/ML/Training_Data/DEC-17-17/train/grade_4/\"\n",
    "patients = os.listdir(data_dir)"
   ]
  },
  {
   "cell_type": "code",
   "execution_count": null,
   "metadata": {},
   "outputs": [],
   "source": []
  },
  {
   "cell_type": "code",
   "execution_count": 3,
   "metadata": {},
   "outputs": [
    {
     "name": "stdout",
     "output_type": "stream",
     "text": [
      "['RIDER Neuro MRI-1596825834', 'RIDER Neuro MRI-3183286461', 'RIDER Neuro MRI-2777879824', 'RIDER Neuro MRI-2579032163', 'RIDER Neuro MRI-2408442290', 'RIDER Neuro MRI-3115670549', 'RIDER Neuro MRI-1086100996', 'RIDER Neuro MRI-2455183034', 'RIDER Neuro MRI-1023805636', 'RIDER Neuro MRI-5244517593', 'RIDER Neuro MRI-2187931648', 'RIDER Neuro MRI-2288950761', 'RIDER Neuro MRI-1725028639', 'RIDER Neuro MRI-2783961675', 'RIDER Neuro MRI-1205970977', 'RIDER Neuro MRI-1863082306', 'RIDER Neuro MRI-1380393408', 'RIDER Neuro MRI-3369019796', 'RIDER Neuro MRI-2363725125']\n",
      "\n",
      "Patients - 19\n"
     ]
    }
   ],
   "source": [
    "print(patients)\n",
    "print(\"\")\n",
    "print(str(\"Patients - \") + str(len(patients)))"
   ]
  },
  {
   "cell_type": "code",
   "execution_count": null,
   "metadata": {
    "collapsed": true
   },
   "outputs": [],
   "source": []
  },
  {
   "cell_type": "code",
   "execution_count": 4,
   "metadata": {
    "scrolled": false
   },
   "outputs": [],
   "source": [
    "def process_training_data():\n",
    "\n",
    "    # Define Vars\n",
    "    PX_SIZE = 256\n",
    "    IMAGES_FOUND = 0\n",
    "    MAX_IMAGES_COUNT = 10000\n",
    "\n",
    "    training_data = []\n",
    "    label = [0,0,0,1]\n",
    "    \n",
    "    \n",
    "    # Patients by ID\n",
    "    for patient_id in patients:\n",
    "\n",
    "        \n",
    "        for user in tqdm(os.listdir(data_dir + patient_id)):\n",
    "            patient_path = data_dir + patient_id + '/' + user\n",
    "\n",
    "            patient_scans = os.listdir(patient_path)\n",
    "\n",
    "            \n",
    "            # Patient each Scans\n",
    "            for patient_scan in patient_scans:\n",
    "                data_path = patient_path + '/' + patient_scan\n",
    "\n",
    "                # Scan Images .dcm\n",
    "                for s in os.listdir(data_path):\n",
    "    \n",
    "                    if IMAGES_FOUND <= MAX_IMAGES_COUNT:\n",
    "                        slice = pydicom.read_file(data_path + '/' + s)\n",
    "                \n",
    "                        if slice.pixel_array.shape[0] >= PX_SIZE and slice.pixel_array.shape[1] >= PX_SIZE:\n",
    "                            # Resize\n",
    "                            img = cv2.resize(np.array(slice.pixel_array),(PX_SIZE,PX_SIZE))\n",
    "                    \n",
    "                            # Save As PNG\n",
    "                            #cv2.imwrite( str(output_dir) + str(uuid.uuid1()) + \".jpg\", img)\n",
    "                        \n",
    "                            # Add to Array\n",
    "                            training_data.append([np.array(img),np.array(label)])\n",
    "                            IMAGES_FOUND += 1\n",
    "                        else:\n",
    "                            print(\"Low Resolution Image\", slice.pixel_array.shape)\n",
    "\n",
    "                    elif IMAGES_FOUND > MAX_IMAGES_COUNT:\n",
    "                        return training_data\n",
    "\n",
    "                    if IMAGES_FOUND % 100 == 0:\n",
    "                        print(IMAGES_FOUND)\n",
    "                        shuffle(training_data)\n",
    "                        np.save('train_data_256X256_grade_4.npy', training_data)\n",
    "    \n",
    "    return training_data"
   ]
  },
  {
   "cell_type": "code",
   "execution_count": null,
   "metadata": {},
   "outputs": [
    {
     "name": "stderr",
     "output_type": "stream",
     "text": [
      "\r",
      "  0%|          | 0/4 [00:00<?, ?it/s]"
     ]
    },
    {
     "name": "stdout",
     "output_type": "stream",
     "text": [
      "100\n",
      "200\n",
      "300\n",
      "400\n",
      "500\n",
      "600\n",
      "700\n",
      "800\n",
      "900\n",
      "1000\n",
      "1100\n"
     ]
    },
    {
     "name": "stderr",
     "output_type": "stream",
     "text": [
      "\r",
      " 25%|██▌       | 1/4 [00:16<00:48, 16.26s/it]"
     ]
    },
    {
     "name": "stdout",
     "output_type": "stream",
     "text": [
      "1200\n",
      "1300\n"
     ]
    },
    {
     "name": "stderr",
     "output_type": "stream",
     "text": [
      "\r",
      " 50%|█████     | 2/4 [00:20<00:25, 12.61s/it]"
     ]
    },
    {
     "name": "stdout",
     "output_type": "stream",
     "text": [
      "1400\n"
     ]
    },
    {
     "name": "stderr",
     "output_type": "stream",
     "text": [
      "\r",
      " 75%|███████▌  | 3/4 [00:24<00:10, 10.06s/it]"
     ]
    },
    {
     "name": "stdout",
     "output_type": "stream",
     "text": [
      "1500\n",
      "1600\n",
      "1700\n",
      "1800\n",
      "1900\n",
      "2000\n",
      "2100\n",
      "2200\n",
      "2300\n",
      "2400\n",
      "2500\n",
      "2600\n"
     ]
    },
    {
     "name": "stderr",
     "output_type": "stream",
     "text": [
      "100%|██████████| 4/4 [00:54<00:00, 16.15s/it]\n",
      "  0%|          | 0/6 [00:00<?, ?it/s]"
     ]
    },
    {
     "name": "stdout",
     "output_type": "stream",
     "text": [
      "2700\n",
      "2800\n",
      "2900\n",
      "3000\n",
      "3100\n",
      "3200\n",
      "3300\n",
      "3400\n",
      "3500\n",
      "3600\n",
      "3700\n"
     ]
    },
    {
     "name": "stderr",
     "output_type": "stream",
     "text": [
      "\r",
      " 17%|█▋        | 1/6 [00:28<02:23, 28.68s/it]"
     ]
    },
    {
     "name": "stdout",
     "output_type": "stream",
     "text": [
      "3800\n",
      "3900\n"
     ]
    },
    {
     "name": "stderr",
     "output_type": "stream",
     "text": [
      "\r",
      " 33%|███▎      | 2/6 [00:32<01:25, 21.32s/it]"
     ]
    },
    {
     "name": "stdout",
     "output_type": "stream",
     "text": [
      "4000\n",
      "4100\n",
      "4200\n",
      "4300\n",
      "4400\n",
      "4500\n",
      "4600\n",
      "4700\n",
      "4800\n",
      "4900\n",
      "5000\n"
     ]
    },
    {
     "name": "stderr",
     "output_type": "stream",
     "text": [
      "\r",
      " 50%|█████     | 3/6 [01:02<01:11, 23.96s/it]"
     ]
    },
    {
     "name": "stdout",
     "output_type": "stream",
     "text": [
      "5100\n",
      "5200\n"
     ]
    },
    {
     "name": "stderr",
     "output_type": "stream",
     "text": [
      "100%|██████████| 6/6 [01:06<00:00, 17.17s/it]\n",
      "  0%|          | 0/6 [00:00<?, ?it/s]"
     ]
    },
    {
     "name": "stdout",
     "output_type": "stream",
     "text": [
      "5300\n",
      "5400\n",
      "5500\n",
      "5600\n",
      "5700\n",
      "5800\n",
      "5900\n",
      "6000\n",
      "6100\n",
      "6200\n",
      "6300\n"
     ]
    },
    {
     "name": "stderr",
     "output_type": "stream",
     "text": [
      "\r",
      " 17%|█▋        | 1/6 [00:23<01:56, 23.26s/it]"
     ]
    },
    {
     "name": "stdout",
     "output_type": "stream",
     "text": [
      "6400\n",
      "6500\n"
     ]
    },
    {
     "name": "stderr",
     "output_type": "stream",
     "text": [
      "\r",
      " 33%|███▎      | 2/6 [00:34<01:19, 19.77s/it]"
     ]
    },
    {
     "name": "stdout",
     "output_type": "stream",
     "text": [
      "6600\n",
      "6700\n"
     ]
    },
    {
     "name": "stderr",
     "output_type": "stream",
     "text": [
      "\r",
      " 50%|█████     | 3/6 [00:38<00:45, 15.01s/it]"
     ]
    },
    {
     "name": "stdout",
     "output_type": "stream",
     "text": [
      "6800\n",
      "6900\n",
      "7000\n",
      "7100\n",
      "7200\n",
      "7300\n",
      "7400\n",
      "7500\n",
      "7600\n",
      "7700\n",
      "7800\n"
     ]
    },
    {
     "name": "stderr",
     "output_type": "stream",
     "text": [
      "100%|██████████| 6/6 [01:02<00:00, 12.86s/it]\n",
      "  0%|          | 0/6 [00:00<?, ?it/s]"
     ]
    },
    {
     "name": "stdout",
     "output_type": "stream",
     "text": [
      "7900\n",
      "8000\n"
     ]
    },
    {
     "name": "stderr",
     "output_type": "stream",
     "text": [
      "\r",
      " 17%|█▋        | 1/6 [00:13<01:05, 13.17s/it]"
     ]
    },
    {
     "name": "stdout",
     "output_type": "stream",
     "text": [
      "8100\n",
      "8200\n",
      "8300\n",
      "8400\n",
      "8500\n",
      "8600\n",
      "8700\n",
      "8800\n",
      "8900\n",
      "9000\n",
      "9100\n"
     ]
    },
    {
     "name": "stderr",
     "output_type": "stream",
     "text": [
      "\r",
      " 33%|███▎      | 2/6 [00:38<01:06, 16.71s/it]"
     ]
    },
    {
     "name": "stdout",
     "output_type": "stream",
     "text": [
      "9200\n",
      "9300\n",
      "9400\n",
      "9500\n",
      "9600\n",
      "9700\n",
      "9800\n",
      "9900\n"
     ]
    }
   ],
   "source": [
    "training_data = process_training_data()"
   ]
  },
  {
   "cell_type": "code",
   "execution_count": null,
   "metadata": {},
   "outputs": [],
   "source": []
  },
  {
   "cell_type": "code",
   "execution_count": null,
   "metadata": {},
   "outputs": [],
   "source": []
  },
  {
   "cell_type": "code",
   "execution_count": null,
   "metadata": {
    "collapsed": true
   },
   "outputs": [],
   "source": []
  }
 ],
 "metadata": {
  "anaconda-cloud": {},
  "kernelspec": {
   "display_name": "Python 3",
   "language": "python",
   "name": "python3"
  },
  "language_info": {
   "codemirror_mode": {
    "name": "ipython",
    "version": 3
   },
   "file_extension": ".py",
   "mimetype": "text/x-python",
   "name": "python",
   "nbconvert_exporter": "python",
   "pygments_lexer": "ipython3",
   "version": "3.6.8"
  }
 },
 "nbformat": 4,
 "nbformat_minor": 2
}
