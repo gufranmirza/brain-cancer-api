{
 "cells": [
  {
   "cell_type": "code",
   "execution_count": null,
   "metadata": {},
   "outputs": [],
   "source": [
    "from random import shuffle \n",
    "import cv2\n",
    "import uuid\n",
    "from tqdm import tqdm\n",
    "\n",
    "import os\n",
    "import pydicom\n",
    "import numpy as np"
   ]
  },
  {
   "cell_type": "code",
   "execution_count": null,
   "metadata": {},
   "outputs": [],
   "source": []
  },
  {
   "cell_type": "code",
   "execution_count": null,
   "metadata": {},
   "outputs": [],
   "source": [
    "# dir Setup\n",
    "\n",
    "data_dir = \"/media/mic/ML/Training_Data/DEC-17-17/train/GRADE_2/\"\n",
    "output_dir = \"/media/mic/ML/Training_Data/DEC-17-17/train/grade_2/\"\n",
    "patients = os.listdir(data_dir)"
   ]
  },
  {
   "cell_type": "code",
   "execution_count": null,
   "metadata": {},
   "outputs": [],
   "source": []
  },
  {
   "cell_type": "code",
   "execution_count": null,
   "metadata": {},
   "outputs": [],
   "source": [
    "print(patients)\n",
    "print(\"\")\n",
    "print(str(\"Patients - \") + str(len(patients)))"
   ]
  },
  {
   "cell_type": "code",
   "execution_count": null,
   "metadata": {},
   "outputs": [],
   "source": []
  },
  {
   "cell_type": "code",
   "execution_count": null,
   "metadata": {
    "scrolled": false
   },
   "outputs": [],
   "source": [
    "def process_training_data():\n",
    "\n",
    "    # Define Vars\n",
    "    PX_SIZE = 256\n",
    "    IMAGES_FOUND = 0\n",
    "    MAX_IMAGES_COUNT = 10000\n",
    "\n",
    "    training_data = []\n",
    "    label = [0,1,0,0]\n",
    "    \n",
    "    \n",
    "    # Patients by ID\n",
    "    for patient_id in patients:\n",
    "\n",
    "        \n",
    "        for user in tqdm(os.listdir(data_dir + patient_id)):\n",
    "            patient_path = data_dir + patient_id + '/' + user\n",
    "\n",
    "            patient_scans = os.listdir(patient_path)\n",
    "\n",
    "            \n",
    "            # Patient each Scans\n",
    "            for patient_scan in patient_scans:\n",
    "                data_path = patient_path + '/' + patient_scan\n",
    "\n",
    "                # Scan Images .dcm\n",
    "                for s in os.listdir(data_path):\n",
    "    \n",
    "                    if IMAGES_FOUND <= MAX_IMAGES_COUNT:\n",
    "                        slice = pydicom.read_file(data_path + '/' + s)\n",
    "                \n",
    "                        if slice.pixel_array.shape[0] >= PX_SIZE and slice.pixel_array.shape[1] >= PX_SIZE:\n",
    "                            # Resize\n",
    "                            img = cv2.resize(np.array(slice.pixel_array),(PX_SIZE,PX_SIZE))\n",
    "                    \n",
    "                            # Save As PNG\n",
    "                            #cv2.imwrite( str(output_dir) + str(uuid.uuid1()) + \".jpg\", img)\n",
    "                        \n",
    "                            # Add to Array\n",
    "                            training_data.append([np.array(img),np.array(label)])\n",
    "                            IMAGES_FOUND += 1\n",
    "                        else:\n",
    "                            print(\"Low Resolution Image\", slice.pixel_array.shape)\n",
    "\n",
    "                    elif IMAGES_FOUND > MAX_IMAGES_COUNT:\n",
    "                        return training_data\n",
    "\n",
    "                    if IMAGES_FOUND % 100 == 0:\n",
    "                        print(IMAGES_FOUND)\n",
    "                        shuffle(training_data)\n",
    "                        np.save('train_data_256X256_grade_2.npy', training_data)\n",
    "    \n",
    "    return training_data"
   ]
  },
  {
   "cell_type": "code",
   "execution_count": null,
   "metadata": {},
   "outputs": [],
   "source": [
    "training_data = process_training_data()"
   ]
  },
  {
   "cell_type": "code",
   "execution_count": null,
   "metadata": {},
   "outputs": [],
   "source": []
  },
  {
   "cell_type": "code",
   "execution_count": null,
   "metadata": {},
   "outputs": [],
   "source": []
  }
 ],
 "metadata": {
  "kernelspec": {
   "display_name": "Python 3",
   "language": "python",
   "name": "python3"
  },
  "language_info": {
   "codemirror_mode": {
    "name": "ipython",
    "version": 3
   },
   "file_extension": ".py",
   "mimetype": "text/x-python",
   "name": "python",
   "nbconvert_exporter": "python",
   "pygments_lexer": "ipython3",
   "version": "3.6.8"
  }
 },
 "nbformat": 4,
 "nbformat_minor": 2
}
